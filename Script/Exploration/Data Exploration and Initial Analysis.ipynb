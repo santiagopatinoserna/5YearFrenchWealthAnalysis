{
 "cells": [
  {
   "cell_type": "markdown",
   "metadata": {},
   "source": [
    "# Exploratory Data Analysis of Wealth Tax in French Communes\n",
    "\n",
    "## An initial analysis of ISF and IFI across communes in France\n",
    "\n",
    "### Summary\n",
    "\n",
    "This notebook aims to explore the distribution of wealth, as represented by the Impôt de solidarité sur la fortune (ISF) and Impôt sur la fortune immobilière (IFI), across different communes in France. We will also attempt some preliminary predictions for the next 5 years.\n",
    "\n",
    "### Table of Contents\n",
    "\n",
    "1. [Data Import and Cleaning](#Data-Import-and-Cleaning)\n",
    "2. [Exploratory Data Analysis](#Exploratory-Data-Analysis)\n",
    "3. [Preliminary Predictions](#Preliminary-Predictions)\n",
    "4. [Conclusion](#Conclusion)\n",
    "\n",
    "### Metadata\n",
    "\n",
    "- Author: [Santiago Patino](https://www.linkedin.com/in/santiago-patino/) - CEO of [Godi.AI](https://www.godi.ai)\n",
    "- Creation Date: 2023-09-15\n",
    "- Last Modified: 2023-09-15\n",
    "- Data Source: [Impôt de solidarité sur la fortune - Impôt sur la fortune immobilière par collectivité territoriale](https://www.data.gouv.fr/fr/datasets/impot-de-solidarite-sur-la-fortune-impot-sur-la-fortune-immobiliere-par-collectivite-territoriale/)\n"
   ]
  },
  {
   "cell_type": "code",
   "execution_count": null,
   "metadata": {},
   "outputs": [
    {
     "ename": "",
     "evalue": "",
     "output_type": "error",
     "traceback": [
      "\u001b[1;31mRunning cells with 'g:\\Mi unidad\\Godi.AI\\Operations\\Freelancer\\Projets\\Impots sur la fortune\\5YearFrenchWealthAnalysis\\.conda\\python.exe' requires the ipykernel package.\n",
      "\u001b[1;31mRun the following command to install 'ipykernel' into the Python environment. \n",
      "\u001b[1;31mCommand: 'conda install -p g:\\Mi unidad\\Godi.AI\\Operations\\Freelancer\\Projets\\Impots sur la fortune\\5YearFrenchWealthAnalysis\\.conda ipykernel --update-deps --force-reinstall'"
     ]
    }
   ],
   "source": [
    "# Importing required libraries\n",
    "import pandas as pd \n"
   ]
  },
  {
   "cell_type": "code",
   "execution_count": null,
   "metadata": {},
   "outputs": [],
   "source": [
    "#reading the data\n",
    "path=r'G:\\Mi unidad\\Godi.AI\\Operations\\Freelancer\\Projets\\Impots sur la fortune\\5YearFrenchWealthAnalysis\\DataIn'\n",
    "pd.read_csv('data.csv')\n"
   ]
  }
 ],
 "metadata": {
  "kernelspec": {
   "display_name": "Python 3",
   "language": "python",
   "name": "python3"
  },
  "language_info": {
   "name": "python",
   "version": "3.10.13"
  },
  "orig_nbformat": 4
 },
 "nbformat": 4,
 "nbformat_minor": 2
}
